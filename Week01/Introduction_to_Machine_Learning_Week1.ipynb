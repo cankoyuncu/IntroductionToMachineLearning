{
 "cells": [
  {
   "cell_type": "markdown",
   "id": "3fee2388",
   "metadata": {},
   "source": [
    "**Python Review**"
   ]
  },
  {
   "cell_type": "code",
   "execution_count": 3,
   "id": "7d9069da",
   "metadata": {},
   "outputs": [],
   "source": [
    "var1=2\n",
    "var2=44\n",
    "\n",
    "gun=\"cumartesi\"\n",
    "\n",
    "var3=22.22"
   ]
  },
  {
   "cell_type": "code",
   "execution_count": 6,
   "id": "cc792ae4",
   "metadata": {},
   "outputs": [
    {
     "data": {
      "text/plain": [
       "list"
      ]
     },
     "execution_count": 6,
     "metadata": {},
     "output_type": "execute_result"
    }
   ],
   "source": [
    "list_int=[2,4,6,8,10]\n",
    "type(list_int)"
   ]
  },
  {
   "cell_type": "code",
   "execution_count": 11,
   "id": "1321770a",
   "metadata": {},
   "outputs": [
    {
     "name": "stdout",
     "output_type": "stream",
     "text": [
      "[2, 4, 6, 8, 10]\n"
     ]
    }
   ],
   "source": [
    "value = list_int\n",
    "print(value)"
   ]
  },
  {
   "cell_type": "code",
   "execution_count": 12,
   "id": "b8be6189",
   "metadata": {},
   "outputs": [
    {
     "data": {
      "text/plain": [
       "[2, 4, 6, 8, 10]"
      ]
     },
     "execution_count": 12,
     "metadata": {},
     "output_type": "execute_result"
    }
   ],
   "source": [
    "value"
   ]
  },
  {
   "cell_type": "code",
   "execution_count": 14,
   "id": "7ecec128",
   "metadata": {},
   "outputs": [
    {
     "data": {
      "text/plain": [
       "10"
      ]
     },
     "execution_count": 14,
     "metadata": {},
     "output_type": "execute_result"
    }
   ],
   "source": [
    "list_int[-1]"
   ]
  },
  {
   "cell_type": "code",
   "execution_count": 16,
   "id": "a87795bf",
   "metadata": {},
   "outputs": [
    {
     "data": {
      "text/plain": [
       "[6, 8]"
      ]
     },
     "execution_count": 16,
     "metadata": {},
     "output_type": "execute_result"
    }
   ],
   "source": [
    "list_int[2:4]"
   ]
  },
  {
   "cell_type": "code",
   "execution_count": 17,
   "id": "e53bb6c6",
   "metadata": {},
   "outputs": [
    {
     "data": {
      "text/plain": [
       "['__add__',\n",
       " '__class__',\n",
       " '__class_getitem__',\n",
       " '__contains__',\n",
       " '__delattr__',\n",
       " '__delitem__',\n",
       " '__dir__',\n",
       " '__doc__',\n",
       " '__eq__',\n",
       " '__format__',\n",
       " '__ge__',\n",
       " '__getattribute__',\n",
       " '__getitem__',\n",
       " '__getstate__',\n",
       " '__gt__',\n",
       " '__hash__',\n",
       " '__iadd__',\n",
       " '__imul__',\n",
       " '__init__',\n",
       " '__init_subclass__',\n",
       " '__iter__',\n",
       " '__le__',\n",
       " '__len__',\n",
       " '__lt__',\n",
       " '__mul__',\n",
       " '__ne__',\n",
       " '__new__',\n",
       " '__reduce__',\n",
       " '__reduce_ex__',\n",
       " '__repr__',\n",
       " '__reversed__',\n",
       " '__rmul__',\n",
       " '__setattr__',\n",
       " '__setitem__',\n",
       " '__sizeof__',\n",
       " '__str__',\n",
       " '__subclasshook__',\n",
       " 'append',\n",
       " 'clear',\n",
       " 'copy',\n",
       " 'count',\n",
       " 'extend',\n",
       " 'index',\n",
       " 'insert',\n",
       " 'pop',\n",
       " 'remove',\n",
       " 'reverse',\n",
       " 'sort']"
      ]
     },
     "execution_count": 17,
     "metadata": {},
     "output_type": "execute_result"
    }
   ],
   "source": [
    "dir(list_int)"
   ]
  },
  {
   "cell_type": "code",
   "execution_count": 20,
   "id": "74174311",
   "metadata": {},
   "outputs": [
    {
     "name": "stdout",
     "output_type": "stream",
     "text": [
      "[2, 4, 6, 8, 10, 4, 4, 12]\n"
     ]
    }
   ],
   "source": [
    "list_int.append(12)\n",
    "print(list_int)"
   ]
  },
  {
   "cell_type": "code",
   "execution_count": 21,
   "id": "9fbeaaa2",
   "metadata": {},
   "outputs": [
    {
     "name": "stdout",
     "output_type": "stream",
     "text": [
      "[2, 6, 8, 10, 4, 4, 12]\n"
     ]
    }
   ],
   "source": [
    "list_int.remove(4)\n",
    "print(list_int)"
   ]
  },
  {
   "cell_type": "code",
   "execution_count": 24,
   "id": "ff988dd9",
   "metadata": {},
   "outputs": [
    {
     "name": "stdout",
     "output_type": "stream",
     "text": [
      "[12, 4, 4, 10, 8, 6, 2]\n"
     ]
    }
   ],
   "source": [
    "list_int.reverse()\n",
    "print(list_int)"
   ]
  },
  {
   "cell_type": "code",
   "execution_count": 26,
   "id": "c33f3d85",
   "metadata": {},
   "outputs": [
    {
     "name": "stdout",
     "output_type": "stream",
     "text": [
      "[2, 4, 4, 6, 8, 10, 12]\n"
     ]
    }
   ],
   "source": [
    "list_int.sort()\n",
    "print(list_int)"
   ]
  },
  {
   "cell_type": "code",
   "execution_count": 27,
   "id": "5e876424",
   "metadata": {},
   "outputs": [
    {
     "name": "stdout",
     "output_type": "stream",
     "text": [
      "[2, 4, 6, 8, 10, 12]\n"
     ]
    }
   ],
   "source": [
    "list_int.remove(4)\n",
    "print(list_int)"
   ]
  },
  {
   "cell_type": "code",
   "execution_count": 28,
   "id": "70789c52",
   "metadata": {},
   "outputs": [
    {
     "name": "stdout",
     "output_type": "stream",
     "text": [
      "1\n",
      "2\n",
      "3\n",
      "4\n",
      "5\n",
      "6\n",
      "7\n",
      "8\n",
      "9\n",
      "10\n"
     ]
    }
   ],
   "source": [
    "for each in range(1,11):\n",
    "    print(each)"
   ]
  },
  {
   "cell_type": "code",
   "execution_count": 29,
   "id": "b36cd7aa",
   "metadata": {},
   "outputs": [
    {
     "data": {
      "text/plain": [
       "36"
      ]
     },
     "execution_count": 29,
     "metadata": {},
     "output_type": "execute_result"
    }
   ],
   "source": [
    "liste = [1,2,3,4,5,6,7,8]\n",
    "sum(liste)"
   ]
  },
  {
   "cell_type": "code",
   "execution_count": 30,
   "id": "02348754",
   "metadata": {},
   "outputs": [
    {
     "data": {
      "text/plain": [
       "1"
      ]
     },
     "execution_count": 30,
     "metadata": {},
     "output_type": "execute_result"
    }
   ],
   "source": [
    "min(liste)"
   ]
  },
  {
   "cell_type": "code",
   "execution_count": 31,
   "id": "9882b83a",
   "metadata": {},
   "outputs": [
    {
     "name": "stdout",
     "output_type": "stream",
     "text": [
      "1\n"
     ]
    }
   ],
   "source": [
    "minumum = 1000\n",
    "\n",
    "for each in liste:\n",
    "    if(each<minumum):\n",
    "        minumum=each\n",
    "    else:\n",
    "        continue\n",
    "    print(minumum)\n",
    "        "
   ]
  },
  {
   "cell_type": "code",
   "execution_count": 33,
   "id": "b4c4edc1",
   "metadata": {},
   "outputs": [
    {
     "name": "stdout",
     "output_type": "stream",
     "text": [
      "0\n",
      "1\n",
      "2\n",
      "3\n"
     ]
    }
   ],
   "source": [
    "i=0\n",
    "\n",
    "while (i<4):\n",
    "    print(i)\n",
    "    i=i+1"
   ]
  },
  {
   "cell_type": "code",
   "execution_count": 34,
   "id": "29733a05",
   "metadata": {},
   "outputs": [
    {
     "data": {
      "text/plain": [
       "12.56"
      ]
     },
     "execution_count": 34,
     "metadata": {},
     "output_type": "execute_result"
    }
   ],
   "source": [
    "def cember_cevre(r, pi=3.14):\n",
    "    \"\"\"\"\n",
    "    cember_cevre\n",
    "    \n",
    "    parametre: r,pi\n",
    "    \n",
    "    output: cemberin cevresi\n",
    "    \"\"\"\n",
    "    \n",
    "    output = 2*pi*r\n",
    "    return output\n",
    "\n",
    "cember_cevre(2)"
   ]
  },
  {
   "cell_type": "code",
   "execution_count": 37,
   "id": "d11f3bd5",
   "metadata": {},
   "outputs": [
    {
     "name": "stdout",
     "output_type": "stream",
     "text": [
      "4\n"
     ]
    }
   ],
   "source": [
    "def hesapla(x):\n",
    "    output = x*x\n",
    "    return output\n",
    "\n",
    "sonuc = hesapla(2)\n",
    "\n",
    "sonuc2 = lambda x: x*x\n",
    "\n",
    "print(sonuc2(2))"
   ]
  },
  {
   "cell_type": "code",
   "execution_count": 70,
   "id": "92137a94",
   "metadata": {},
   "outputs": [],
   "source": [
    "dictionary = dict({\"can\":22, \"andullah\":18, \"onur\":17})"
   ]
  },
  {
   "cell_type": "code",
   "execution_count": 71,
   "id": "b9086308",
   "metadata": {},
   "outputs": [
    {
     "data": {
      "text/plain": [
       "22"
      ]
     },
     "execution_count": 71,
     "metadata": {},
     "output_type": "execute_result"
    }
   ],
   "source": [
    "dictionary[\"can\"]"
   ]
  },
  {
   "cell_type": "code",
   "execution_count": 64,
   "id": "016b94dc",
   "metadata": {},
   "outputs": [
    {
     "data": {
      "text/plain": [
       "dict_keys(['can', 'andullah', 'onur'])"
      ]
     },
     "execution_count": 64,
     "metadata": {},
     "output_type": "execute_result"
    }
   ],
   "source": [
    "dictionary.keys()"
   ]
  },
  {
   "cell_type": "code",
   "execution_count": 67,
   "id": "4853cd49",
   "metadata": {},
   "outputs": [
    {
     "data": {
      "text/plain": [
       "dict_values([22, 18, 17])"
      ]
     },
     "execution_count": 67,
     "metadata": {},
     "output_type": "execute_result"
    }
   ],
   "source": [
    "dictionary.values()"
   ]
  },
  {
   "cell_type": "code",
   "execution_count": 72,
   "id": "836f56d5",
   "metadata": {},
   "outputs": [],
   "source": [
    "def deneme():\n",
    "    \n",
    "    dictionary = {\"can\":22, \"andullah\":18, \"onur\":17}\n",
    "    \n",
    "    return dictionary\n",
    "\n",
    "dic = deneme()"
   ]
  },
  {
   "cell_type": "code",
   "execution_count": 75,
   "id": "8293effd",
   "metadata": {},
   "outputs": [
    {
     "name": "stdout",
     "output_type": "stream",
     "text": [
      "{'can': 22, 'andullah': 18, 'onur': 17}\n"
     ]
    }
   ],
   "source": [
    "print(dic)"
   ]
  },
  {
   "cell_type": "code",
   "execution_count": 76,
   "id": "6519b7d8",
   "metadata": {},
   "outputs": [
    {
     "name": "stdout",
     "output_type": "stream",
     "text": [
      "evet\n"
     ]
    }
   ],
   "source": [
    "keys = dictionary.keys()\n",
    "\n",
    "if \"can\" in keys:\n",
    "    print(\"evet\")\n",
    "else:\n",
    "    print(\"hayir\")"
   ]
  }
 ],
 "metadata": {
  "kernelspec": {
   "display_name": "Python 3 (ipykernel)",
   "language": "python",
   "name": "python3"
  },
  "language_info": {
   "codemirror_mode": {
    "name": "ipython",
    "version": 3
   },
   "file_extension": ".py",
   "mimetype": "text/x-python",
   "name": "python",
   "nbconvert_exporter": "python",
   "pygments_lexer": "ipython3",
   "version": "3.11.5"
  }
 },
 "nbformat": 4,
 "nbformat_minor": 5
}
